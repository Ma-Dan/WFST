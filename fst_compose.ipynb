{
 "cells": [
  {
   "cell_type": "code",
   "execution_count": 1,
   "metadata": {},
   "outputs": [],
   "source": [
    "import numpy as np\n",
    "import openfst_python as fst\n",
    "import matplotlib.pyplot as plot\n",
    "import re\n",
    "%matplotlib inline"
   ]
  },
  {
   "cell_type": "code",
   "execution_count": 2,
   "metadata": {},
   "outputs": [],
   "source": [
    "def CompileFstStringFile(file_name):\n",
    "    compiler = fst.Compiler()\n",
    "\n",
    "    f = open(file_name, 'r')\n",
    "    lines = f.readlines()\n",
    "    for line in lines:\n",
    "        compiler.write(line)\n",
    "    f.close()\n",
    "\n",
    "    return compiler.compile()"
   ]
  },
  {
   "cell_type": "code",
   "execution_count": 3,
   "metadata": {},
   "outputs": [],
   "source": [
    "def ReadFstStringFile(file_name):\n",
    "    I = ('0', 0)\n",
    "    E = []\n",
    "    F = []\n",
    "    f = open(file_name, 'r')\n",
    "    lines = f.readlines()\n",
    "    for line in lines:\n",
    "        line = re.sub(\"\\s\\s+\" , \" \", line.strip('\\n')).split(\" \")\n",
    "        if len(line) < 5:\n",
    "            F += [(line[0], float(line[1]))]\n",
    "            continue\n",
    "        E += [((line[0]), line[2], line[3], float(line[4]), (line[1]))]\n",
    "    f.close()\n",
    "    \n",
    "    return (I, E, F)"
   ]
  },
  {
   "cell_type": "code",
   "execution_count": 4,
   "metadata": {},
   "outputs": [],
   "source": [
    "def WriteFstStringFile(fst, file_name):\n",
    "    N = []\n",
    "    for x in fst[1]:\n",
    "        if x[0] not in N:\n",
    "            N.append(x[0])\n",
    "        if x[4] not in N:\n",
    "            N.append(x[4])\n",
    "    f = open(file_name, 'w')\n",
    "    for x in fst[1]:\n",
    "        f.write('%d %d %s %s %f\\n'%(N.index(x[0]), N.index(x[4]), x[1], x[2], x[3]))\n",
    "    for x in fst[2]:\n",
    "        f.write('%s %f\\n'%(N.index(x[0]), x[1]))\n",
    "    f.close()"
   ]
  },
  {
   "cell_type": "code",
   "execution_count": 5,
   "metadata": {},
   "outputs": [],
   "source": [
    "def Compose(T1, T2):\n",
    "    I = []\n",
    "    E = []\n",
    "    F = []\n",
    "    Q = []\n",
    "    S = []\n",
    "    I1xI2 = ([(T1[0][0], T2[0][0])], [T1[0][1]+T2[0][1]])\n",
    "    F1xF2 = ([(x1[0], x2[0]) for x1 in T1[2] for x2 in T2[2]], [x1[1]+x2[1] for x1 in T1[2] for x2 in T2[2]])\n",
    "    Q.insert(0, I1xI2[0][0])\n",
    "    S.insert(0, I1xI2[0][0])\n",
    "    while len(S) > 0:\n",
    "        q1, q2 = S.pop()\n",
    "        if (q1, q2) in I1xI2[0]:\n",
    "            I.append(((q1, q2), I1xI2[1][I1xI2[0].index((q1, q2))]))\n",
    "        if (q1, q2) in F1xF2[0]:\n",
    "            F.append(((q1, q2), F1xF2[1][F1xF2[0].index((q1, q2))]))\n",
    "        Eq1 = [x for x in T1[1] if x[0]==q1]\n",
    "        Eq2 = [x for x in T2[1] if x[0]==q2]\n",
    "        for e1 in Eq1:\n",
    "            for e2 in Eq2:\n",
    "                if e1[2] == e2[1]:\n",
    "                    if (e1[4], e2[4]) not in Q:\n",
    "                        Q.append((e1[4], e2[4]))\n",
    "                        S.insert(0, (e1[4], e2[4]))\n",
    "                    E.append(((q1, q2), e1[1], e2[2], e1[3]+e2[3], (e1[4], e2[4])))\n",
    "    return (I, E, F)"
   ]
  },
  {
   "cell_type": "code",
   "execution_count": 6,
   "metadata": {},
   "outputs": [
    {
     "data": {
      "text/plain": [
       "(('0', 0),\n",
       " [('0', '1', '2', 0.1, '1'),\n",
       "  ('0', '2', '1', 0.2, '2'),\n",
       "  ('1', '1', '1', 0.4, '3'),\n",
       "  ('1', '3', '1', 0.3, '1'),\n",
       "  ('2', '2', '2', 0.5, '3')],\n",
       " [('3', 0.6)])"
      ]
     },
     "execution_count": 6,
     "metadata": {},
     "output_type": "execute_result"
    }
   ],
   "source": [
    "a = ReadFstStringFile('A.fst')\n",
    "a"
   ]
  },
  {
   "cell_type": "code",
   "execution_count": 7,
   "metadata": {},
   "outputs": [
    {
     "data": {
      "text/plain": [
       "(('0', 0),\n",
       " [('0', '2', '3', 0.3, '1'),\n",
       "  ('1', '1', '2', 0.4, '2'),\n",
       "  ('2', '1', '2', 0.6, '2')],\n",
       " [('2', 0.7)])"
      ]
     },
     "execution_count": 7,
     "metadata": {},
     "output_type": "execute_result"
    }
   ],
   "source": [
    "b = ReadFstStringFile('B.fst')\n",
    "b"
   ]
  },
  {
   "cell_type": "code",
   "execution_count": 8,
   "metadata": {},
   "outputs": [
    {
     "data": {
      "text/plain": [
       "([(('0', '0'), 0)],\n",
       " [(('0', '0'), '1', '3', 0.4, ('1', '1')),\n",
       "  (('1', '1'), '1', '2', 0.8, ('3', '2')),\n",
       "  (('1', '1'), '3', '2', 0.7, ('1', '2')),\n",
       "  (('1', '2'), '1', '2', 1.0, ('3', '2')),\n",
       "  (('1', '2'), '3', '2', 0.8999999999999999, ('1', '2'))],\n",
       " [(('3', '2'), 1.2999999999999998)])"
      ]
     },
     "execution_count": 8,
     "metadata": {},
     "output_type": "execute_result"
    }
   ],
   "source": [
    "c = Compose(a, b)\n",
    "c"
   ]
  },
  {
   "cell_type": "code",
   "execution_count": 9,
   "metadata": {},
   "outputs": [],
   "source": [
    "WriteFstStringFile(c, 'C.fst')"
   ]
  },
  {
   "cell_type": "code",
   "execution_count": 10,
   "metadata": {},
   "outputs": [
    {
     "data": {
      "image/svg+xml": [
       "<?xml version=\"1.0\" encoding=\"UTF-8\" standalone=\"no\"?>\n",
       "<!DOCTYPE svg PUBLIC \"-//W3C//DTD SVG 1.1//EN\"\n",
       " \"http://www.w3.org/Graphics/SVG/1.1/DTD/svg11.dtd\">\n",
       "<!-- Generated by graphviz version 2.44.1 (20200629.0846)\n",
       " -->\n",
       "<!-- Title: FST Pages: 1 -->\n",
       "<svg width=\"380pt\" height=\"103pt\"\n",
       " viewBox=\"0.00 0.00 380.19 102.60\" xmlns=\"http://www.w3.org/2000/svg\" xmlns:xlink=\"http://www.w3.org/1999/xlink\">\n",
       "<g id=\"graph0\" class=\"graph\" transform=\"scale(1 1) rotate(0) translate(4 98.6)\">\n",
       "<title>FST</title>\n",
       "<polygon fill=\"white\" stroke=\"transparent\" points=\"-4,4 -4,-98.6 376.19,-98.6 376.19,4 -4,4\"/>\n",
       "<!-- 0 -->\n",
       "<g id=\"node1\" class=\"node\">\n",
       "<title>0</title>\n",
       "<ellipse fill=\"none\" stroke=\"black\" stroke-width=\"2\" cx=\"18\" cy=\"-62\" rx=\"18\" ry=\"18\"/>\n",
       "<text text-anchor=\"middle\" x=\"18\" y=\"-58.3\" font-family=\"Times,serif\" font-size=\"14.00\">0</text>\n",
       "</g>\n",
       "<!-- 1 -->\n",
       "<g id=\"node2\" class=\"node\">\n",
       "<title>1</title>\n",
       "<ellipse fill=\"none\" stroke=\"black\" cx=\"123\" cy=\"-62\" rx=\"18\" ry=\"18\"/>\n",
       "<text text-anchor=\"middle\" x=\"123\" y=\"-58.3\" font-family=\"Times,serif\" font-size=\"14.00\">1</text>\n",
       "</g>\n",
       "<!-- 0&#45;&gt;1 -->\n",
       "<g id=\"edge1\" class=\"edge\">\n",
       "<title>0&#45;&gt;1</title>\n",
       "<path fill=\"none\" stroke=\"black\" d=\"M36.01,-62C51.96,-62 76.09,-62 94.73,-62\"/>\n",
       "<polygon fill=\"black\" stroke=\"black\" points=\"94.97,-65.5 104.97,-62 94.97,-58.5 94.97,-65.5\"/>\n",
       "<text text-anchor=\"middle\" x=\"70.5\" y=\"-65.8\" font-family=\"Times,serif\" font-size=\"14.00\">1:3/0.4</text>\n",
       "</g>\n",
       "<!-- 2 -->\n",
       "<g id=\"node3\" class=\"node\">\n",
       "<title>2</title>\n",
       "<ellipse fill=\"none\" stroke=\"black\" cx=\"339.6\" cy=\"-62\" rx=\"28.68\" ry=\"28.68\"/>\n",
       "<ellipse fill=\"none\" stroke=\"black\" cx=\"339.6\" cy=\"-62\" rx=\"32.7\" ry=\"32.7\"/>\n",
       "<text text-anchor=\"middle\" x=\"339.6\" y=\"-58.3\" font-family=\"Times,serif\" font-size=\"14.00\">2/1.3</text>\n",
       "</g>\n",
       "<!-- 1&#45;&gt;2 -->\n",
       "<g id=\"edge2\" class=\"edge\">\n",
       "<title>1&#45;&gt;2</title>\n",
       "<path fill=\"none\" stroke=\"black\" d=\"M140.68,-66.05C157.91,-70 185.65,-75.75 210,-78 239.44,-80.72 272.53,-76.43 297.78,-71.61\"/>\n",
       "<polygon fill=\"black\" stroke=\"black\" points=\"298.62,-75.01 307.74,-69.61 297.24,-68.15 298.62,-75.01\"/>\n",
       "<text text-anchor=\"middle\" x=\"229.5\" y=\"-81.8\" font-family=\"Times,serif\" font-size=\"14.00\">1:2/0.8</text>\n",
       "</g>\n",
       "<!-- 3 -->\n",
       "<g id=\"node4\" class=\"node\">\n",
       "<title>3</title>\n",
       "<ellipse fill=\"none\" stroke=\"black\" cx=\"229.5\" cy=\"-18\" rx=\"18\" ry=\"18\"/>\n",
       "<text text-anchor=\"middle\" x=\"229.5\" y=\"-14.3\" font-family=\"Times,serif\" font-size=\"14.00\">3</text>\n",
       "</g>\n",
       "<!-- 1&#45;&gt;3 -->\n",
       "<g id=\"edge3\" class=\"edge\">\n",
       "<title>1&#45;&gt;3</title>\n",
       "<path fill=\"none\" stroke=\"black\" d=\"M139.87,-55.32C156.67,-48.24 183.44,-36.97 203.17,-28.67\"/>\n",
       "<polygon fill=\"black\" stroke=\"black\" points=\"204.62,-31.85 212.48,-24.75 201.9,-25.4 204.62,-31.85\"/>\n",
       "<text text-anchor=\"middle\" x=\"175.5\" y=\"-50.8\" font-family=\"Times,serif\" font-size=\"14.00\">3:2/0.7</text>\n",
       "</g>\n",
       "<!-- 3&#45;&gt;2 -->\n",
       "<g id=\"edge4\" class=\"edge\">\n",
       "<title>3&#45;&gt;2</title>\n",
       "<path fill=\"none\" stroke=\"black\" d=\"M246.45,-24.49C260.45,-30.19 281.4,-38.72 299.78,-46.2\"/>\n",
       "<polygon fill=\"black\" stroke=\"black\" points=\"298.53,-49.47 309.11,-50 301.17,-42.99 298.53,-49.47\"/>\n",
       "<text text-anchor=\"middle\" x=\"278\" y=\"-45.8\" font-family=\"Times,serif\" font-size=\"14.00\">1:2/1</text>\n",
       "</g>\n",
       "<!-- 3&#45;&gt;3 -->\n",
       "<g id=\"edge5\" class=\"edge\">\n",
       "<title>3&#45;&gt;3</title>\n",
       "<path fill=\"none\" stroke=\"black\" d=\"M221.14,-34.29C219.12,-44.39 221.91,-54 229.5,-54 234.36,-54 237.26,-50.06 238.18,-44.57\"/>\n",
       "<polygon fill=\"black\" stroke=\"black\" points=\"241.67,-44.18 237.86,-34.29 234.67,-44.39 241.67,-44.18\"/>\n",
       "<text text-anchor=\"middle\" x=\"229.5\" y=\"-57.8\" font-family=\"Times,serif\" font-size=\"14.00\">3:2/0.9</text>\n",
       "</g>\n",
       "</g>\n",
       "</svg>\n"
      ],
      "text/plain": [
       "<vector Fst at 0x117ee89b0>"
      ]
     },
     "execution_count": 10,
     "metadata": {},
     "output_type": "execute_result"
    }
   ],
   "source": [
    "c = CompileFstStringFile('C.fst')\n",
    "c"
   ]
  },
  {
   "cell_type": "code",
   "execution_count": null,
   "metadata": {},
   "outputs": [],
   "source": []
  }
 ],
 "metadata": {
  "kernelspec": {
   "display_name": "Python 3",
   "language": "python",
   "name": "python3"
  },
  "language_info": {
   "codemirror_mode": {
    "name": "ipython",
    "version": 3
   },
   "file_extension": ".py",
   "mimetype": "text/x-python",
   "name": "python",
   "nbconvert_exporter": "python",
   "pygments_lexer": "ipython3",
   "version": "3.7.9"
  }
 },
 "nbformat": 4,
 "nbformat_minor": 4
}
